{
 "cells": [
  {
   "cell_type": "code",
   "execution_count": 29,
   "id": "4d9070e7",
   "metadata": {},
   "outputs": [],
   "source": [
    "txt = \"interest rate to a variable interest rate based on the three-month libor plus 2.05% ( 2.05 % ) ( 2.34% ( 2.34 % )as of october 31 , 2009 ) .\""
   ]
  },
  {
   "cell_type": "code",
   "execution_count": 30,
   "id": "98c0443c",
   "metadata": {},
   "outputs": [],
   "source": [
    "import re"
   ]
  },
  {
   "cell_type": "code",
   "execution_count": null,
   "id": "1c93b704",
   "metadata": {},
   "outputs": [],
   "source": []
  },
  {
   "cell_type": "code",
   "execution_count": 31,
   "id": "bf1ba399",
   "metadata": {},
   "outputs": [],
   "source": [
    "r = re.compile(\" *\\( [0-9]+.[0-9]+ % \\) *\")"
   ]
  },
  {
   "cell_type": "code",
   "execution_count": 32,
   "id": "d4d7bc89",
   "metadata": {},
   "outputs": [
    {
     "name": "stdout",
     "output_type": "stream",
     "text": [
      "interest rate to a variable interest rate based on the three-month libor plus 2.05% ( 2.34% as of october 31 , 2009 ) .\n",
      "interest rate to a variable interest rate based on the three-month libor plus 2.05% ( 2.34% as of october 31 , 2009 ) .\n",
      "[[83, 95, ' ( 2.05 % ) '], [102, 113, ' ( 2.34 % )']]\n"
     ]
    }
   ],
   "source": [
    "\n",
    "print(refined_txt)\n",
    "history = []\n",
    "for i in r.finditer(txt):\n",
    "    s, e = i.span()\n",
    "    history.append([s, e, txt[s:e]])\n",
    "    \n",
    "refined_txt = r.sub(\" \", txt)\n",
    "print(refined_txt)\n",
    "print(history)\n",
    "#     refined_txt = refined_txt.replace(i, ' ' * len(i))\n",
    "#     print(refined_txt)"
   ]
  },
  {
   "cell_type": "code",
   "execution_count": null,
   "id": "4b85a1b7",
   "metadata": {},
   "outputs": [],
   "source": []
  },
  {
   "cell_type": "code",
   "execution_count": 33,
   "id": "eb92855f",
   "metadata": {},
   "outputs": [],
   "source": [
    "# 복구"
   ]
  },
  {
   "cell_type": "code",
   "execution_count": 40,
   "id": "7ff400e3",
   "metadata": {},
   "outputs": [
    {
     "name": "stdout",
     "output_type": "stream",
     "text": [
      "interest rate to a variable interest rate based on the three-month libor plus 2.05% ( 2.05 % ) ( 2.34% ( 2.34 % )as of october 31 , 2009 ) .\n",
      "interest rate to a variable interest rate based on the three-month libor plus 2.05% ( 2.05 % )  ( 2.34% as of october 31 , 2009 ) .\n",
      "\n",
      "interest rate to a variable interest rate based on the three-month libor plus 2.05% ( 2.34% as of octo ( 2.34 % )ber 31 , 2009 ) .\n",
      "\n"
     ]
    }
   ],
   "source": [
    "reconstruct_txt = refined_txt\n",
    "print(txt)\n",
    "for (s, e, t) in history:\n",
    "    print(reconstruct_txt[:s] + t + reconstruct_txt[s+1:])\n",
    "    print()"
   ]
  },
  {
   "cell_type": "code",
   "execution_count": null,
   "id": "5a601d1b",
   "metadata": {},
   "outputs": [],
   "source": []
  },
  {
   "cell_type": "code",
   "execution_count": null,
   "id": "85d279c1",
   "metadata": {},
   "outputs": [],
   "source": []
  },
  {
   "cell_type": "code",
   "execution_count": null,
   "id": "918b187c",
   "metadata": {},
   "outputs": [],
   "source": []
  },
  {
   "cell_type": "code",
   "execution_count": null,
   "id": "a66edb7c",
   "metadata": {},
   "outputs": [],
   "source": []
  },
  {
   "cell_type": "code",
   "execution_count": null,
   "id": "c97cedda",
   "metadata": {},
   "outputs": [],
   "source": []
  }
 ],
 "metadata": {
  "kernelspec": {
   "display_name": "Python 3 (ipykernel)",
   "language": "python",
   "name": "python3"
  },
  "language_info": {
   "codemirror_mode": {
    "name": "ipython",
    "version": 3
   },
   "file_extension": ".py",
   "mimetype": "text/x-python",
   "name": "python",
   "nbconvert_exporter": "python",
   "pygments_lexer": "ipython3",
   "version": "3.8.10"
  }
 },
 "nbformat": 4,
 "nbformat_minor": 5
}
