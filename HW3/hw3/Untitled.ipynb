{
 "cells": [
  {
   "cell_type": "code",
   "execution_count": 57,
   "id": "b131a5b0",
   "metadata": {},
   "outputs": [],
   "source": [
    "txt = \"interest rate to a variable interest rate based on the three-month libor plus 2.05%( 2.05 % )( 2.34%( 2.34 % ) as of october 31 , 2009 ) .\""
   ]
  },
  {
   "cell_type": "code",
   "execution_count": 58,
   "id": "12603a21",
   "metadata": {},
   "outputs": [],
   "source": [
    "import re"
   ]
  },
  {
   "cell_type": "code",
   "execution_count": null,
   "id": "296c0521",
   "metadata": {},
   "outputs": [],
   "source": []
  },
  {
   "cell_type": "code",
   "execution_count": 59,
   "id": "021d8fba",
   "metadata": {},
   "outputs": [],
   "source": [
    "r = re.compile(\" *\\( [0-9]+.[0-9]+ % \\) *\")"
   ]
  },
  {
   "cell_type": "code",
   "execution_count": 60,
   "id": "ec8a5cf6",
   "metadata": {},
   "outputs": [
    {
     "name": "stdout",
     "output_type": "stream",
     "text": [
      "interest rate to a variable interest rate based on the three-month libor plus 2.05% (2.05 %) ( 2.34% as of october 31 , 2009 ) .\n",
      "interest rate to a variable interest rate based on the three-month libor plus 2.05% ( 2.34% as of october 31 , 2009 ) .\n",
      "[[83, 93, '( 2.05 % )'], [100, 111, '( 2.34 % ) ']]\n"
     ]
    }
   ],
   "source": [
    "\n",
    "print(refined_txt)\n",
    "history = []\n",
    "for i in r.finditer(txt):\n",
    "    s, e = i.span()\n",
    "    history.append([s, e, txt[s:e]])\n",
    "    \n",
    "refined_txt = r.sub(\" \", txt)\n",
    "print(refined_txt)\n",
    "print(history)\n",
    "#     refined_txt = refined_txt.replace(i, ' ' * len(i))\n",
    "#     print(refined_txt)"
   ]
  },
  {
   "cell_type": "code",
   "execution_count": null,
   "id": "214966b8",
   "metadata": {},
   "outputs": [],
   "source": []
  },
  {
   "cell_type": "code",
   "execution_count": 61,
   "id": "a36779b7",
   "metadata": {},
   "outputs": [],
   "source": [
    "# 복구"
   ]
  },
  {
   "cell_type": "code",
   "execution_count": 62,
   "id": "ef2c4b9e",
   "metadata": {},
   "outputs": [
    {
     "name": "stdout",
     "output_type": "stream",
     "text": [
      "interest rate to a variable interest rate based on the three-month libor plus 2.05%( 2.05 % )( 2.34%( 2.34 % ) as of october 31 , 2009 ) .\n",
      "interest rate to a variable interest rate based on the three-month libor plus 2.05%( 2.05 % )( 2.34% as of october 31 , 2009 ) .\n",
      "interest rate to a variable interest rate based on the three-month libor plus 2.05%( 2.05 % )( 2.34%( 2.34 % ) as of october 31 , 2009 ) .\n",
      "True\n"
     ]
    }
   ],
   "source": [
    "reconstruct_txt = refined_txt\n",
    "print(txt)\n",
    "for (s, e, t) in history:\n",
    "    reconstruct_txt = reconstruct_txt[:s] + t + reconstruct_txt[s+1:]\n",
    "    print(reconstruct_txt)\n",
    "    \n",
    "print(reconstruct_txt == txt)"
   ]
  },
  {
   "cell_type": "code",
   "execution_count": null,
   "id": "8d24e80a",
   "metadata": {},
   "outputs": [],
   "source": []
  },
  {
   "cell_type": "code",
   "execution_count": null,
   "id": "bfe63d75",
   "metadata": {},
   "outputs": [],
   "source": []
  },
  {
   "cell_type": "code",
   "execution_count": null,
   "id": "e6b89e76",
   "metadata": {},
   "outputs": [],
   "source": []
  },
  {
   "cell_type": "code",
   "execution_count": null,
   "id": "48b3b6d6",
   "metadata": {},
   "outputs": [],
   "source": []
  },
  {
   "cell_type": "code",
   "execution_count": null,
   "id": "0641e880",
   "metadata": {},
   "outputs": [],
   "source": []
  }
 ],
 "metadata": {
  "kernelspec": {
   "display_name": "Python 3 (ipykernel)",
   "language": "python",
   "name": "python3"
  },
  "language_info": {
   "codemirror_mode": {
    "name": "ipython",
    "version": 3
   },
   "file_extension": ".py",
   "mimetype": "text/x-python",
   "name": "python",
   "nbconvert_exporter": "python",
   "pygments_lexer": "ipython3",
   "version": "3.8.10"
  }
 },
 "nbformat": 4,
 "nbformat_minor": 5
}
