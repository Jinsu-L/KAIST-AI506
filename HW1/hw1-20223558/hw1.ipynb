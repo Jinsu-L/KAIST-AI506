{
 "cells": [
  {
   "cell_type": "code",
   "execution_count": 294,
   "metadata": {},
   "outputs": [],
   "source": [
    "import numpy as np\n",
    "import matplotlib.pyplot as plt\n",
    "from sklearn import datasets\n",
    "from tqdm import tqdm\n",
    "\n",
    "from collections import defaultdict\n",
    "import itertools\n",
    "import random\n",
    "import re\n",
    "import time"
   ]
  },
  {
   "cell_type": "code",
   "execution_count": 295,
   "metadata": {},
   "outputs": [],
   "source": [
    "## You are always welcome to implement your own function without using external libraries."
   ]
  },
  {
   "cell_type": "markdown",
   "metadata": {},
   "source": [
    "## Implement Weighted Jaccard similarity"
   ]
  },
  {
   "cell_type": "code",
   "execution_count": 296,
   "metadata": {},
   "outputs": [],
   "source": [
    "## read M.txt and store col, row, val in a list of dictionaries\n",
    "\n",
    "items = defaultdict(list)\n",
    "\n",
    "with open(f\"M.txt\", \"r\") as f:\n",
    "    for line in f:\n",
    "        _line = list(map(int, line.rstrip().split(\",\")))\n",
    "        items[_line[0]].append(tuple([_line[1], _line[-1]]))"
   ]
  },
  {
   "cell_type": "code",
   "execution_count": 297,
   "metadata": {},
   "outputs": [],
   "source": [
    "item_vec = [[0] * 5 for i in range(3)]\n",
    "\n",
    "for i in range(3):\n",
    "    for user in items[i]:\n",
    "        item_vec[i][user[0]] = user[1]"
   ]
  },
  {
   "cell_type": "code",
   "execution_count": 298,
   "metadata": {},
   "outputs": [],
   "source": [
    "## Task 1. Implement the weighted_jaccard_similarity.\n",
    "\n",
    "def weighted_jaccard_similarity(s1, s2):\n",
    "    ans = 0\n",
    "    #### Implement here ####\n",
    "    \n",
    "    sum_of_intersection = 0\n",
    "    sum_of_union = 0\n",
    "    for x_i, y_i in zip(s1, s2):\n",
    "        sum_of_intersection += min(x_i, y_i)\n",
    "        sum_of_union += max(x_i, y_i)\n",
    "    \n",
    "    ans = sum_of_intersection / sum_of_union\n",
    "   \n",
    "    ########################\n",
    "        \n",
    "    return ans"
   ]
  },
  {
   "cell_type": "code",
   "execution_count": 300,
   "metadata": {},
   "outputs": [
    {
     "name": "stdout",
     "output_type": "stream",
     "text": [
      "0.6363636363636364\n",
      "0.1875\n",
      "0.35714285714285715\n"
     ]
    }
   ],
   "source": [
    "print(weighted_jaccard_similarity(item_vec[0], item_vec[1]))\n",
    "print(weighted_jaccard_similarity(item_vec[1], item_vec[2]))\n",
    "print(weighted_jaccard_similarity(item_vec[0], item_vec[2]))"
   ]
  },
  {
   "cell_type": "markdown",
   "metadata": {
    "tags": []
   },
   "source": [
    "## Implement a code that returns shingle per items"
   ]
  },
  {
   "cell_type": "code",
   "execution_count": 301,
   "metadata": {},
   "outputs": [],
   "source": [
    "## Task 2. Implement build_items_to_shingle_dictionary."
   ]
  },
  {
   "cell_type": "code",
   "execution_count": 302,
   "metadata": {},
   "outputs": [],
   "source": [
    "# Sub-function that will be used in the next tasks.\n",
    "# Please implement this function for future use.\n",
    "\n",
    "def get_shingles(items):\n",
    "    shingles = []\n",
    "    \n",
    "    #### Implement here ####\n",
    "    \n",
    "    users = set()\n",
    "    ratings = set()\n",
    "    for item in items.values():\n",
    "        for feedback in item:\n",
    "            users.add(feedback[0])\n",
    "            ratings.add(feedback[1])\n",
    "    \n",
    "    shingles = list(itertools.product(users, ratings))\n",
    "    \n",
    "    ########################\n",
    "    \n",
    "    return set(shingles)"
   ]
  },
  {
   "cell_type": "code",
   "execution_count": 303,
   "metadata": {},
   "outputs": [],
   "source": [
    "def build_items_to_shingle_dictionary(items, shingles):\n",
    "    item_to_shingles = {}\n",
    "    \n",
    "    #### Implement here ####\n",
    "    \n",
    "    shingle_to_idx = {}\n",
    "    for i, shingle in enumerate(sorted(shingles)):\n",
    "        shingle_to_idx[shingle] = i\n",
    "    \n",
    "    \n",
    "    for item_no, item in items.items():\n",
    "        buf = []\n",
    "        for feedback in item:\n",
    "            user_no, rate = feedback\n",
    "            for i in range(1, rate+1):\n",
    "                buf.append((user_no, i))\n",
    "                \n",
    "        item_to_shingles[item_no] = [shingle_to_idx[i] for i in buf]\n",
    "    \n",
    "    ########################\n",
    "    \n",
    "    \n",
    "    return item_to_shingles"
   ]
  },
  {
   "cell_type": "code",
   "execution_count": 304,
   "metadata": {},
   "outputs": [],
   "source": [
    "shingles = get_shingles(items)\n",
    "item_to_shingles = build_items_to_shingle_dictionary(items, shingles)"
   ]
  },
  {
   "cell_type": "code",
   "execution_count": 308,
   "metadata": {},
   "outputs": [
    {
     "data": {
      "text/plain": [
       "25"
      ]
     },
     "execution_count": 308,
     "metadata": {},
     "output_type": "execute_result"
    }
   ],
   "source": [
    "len(shingles)"
   ]
  },
  {
   "cell_type": "code",
   "execution_count": 309,
   "metadata": {},
   "outputs": [
    {
     "data": {
      "text/plain": [
       "{0: [0, 1, 2, 10, 15, 16, 17, 18, 19],\n",
       " 1: [0, 1, 5, 15, 16, 17, 18, 19, 20],\n",
       " 2: [0, 1, 2, 3, 4, 10, 11, 12, 13, 15]}"
      ]
     },
     "execution_count": 309,
     "metadata": {},
     "output_type": "execute_result"
    }
   ],
   "source": [
    "item_to_shingles"
   ]
  },
  {
   "cell_type": "code",
   "execution_count": 310,
   "metadata": {},
   "outputs": [],
   "source": [
    "# Task 3. Implement jaccard_similarity.\n",
    "def jaccard_similarity(s1, s2):\n",
    "    ans = 0\n",
    "    #### Implement here ####\n",
    "    \n",
    "    ans = len(s1.intersection(s2)) / len(s1.union(s2))\n",
    "    \n",
    "    \n",
    "    ########################\n",
    "        \n",
    "    return ans"
   ]
  },
  {
   "cell_type": "code",
   "execution_count": 311,
   "metadata": {},
   "outputs": [
    {
     "name": "stdout",
     "output_type": "stream",
     "text": [
      "0.6363636363636364\n",
      "0.1875\n",
      "0.35714285714285715\n"
     ]
    }
   ],
   "source": [
    "print(jaccard_similarity(set(item_to_shingles[0]), set(item_to_shingles[1])))\n",
    "print(jaccard_similarity(set(item_to_shingles[1]), set(item_to_shingles[2])))\n",
    "print(jaccard_similarity(set(item_to_shingles[0]), set(item_to_shingles[2])))"
   ]
  },
  {
   "cell_type": "code",
   "execution_count": null,
   "metadata": {},
   "outputs": [],
   "source": []
  },
  {
   "cell_type": "markdown",
   "metadata": {},
   "source": [
    "## Import MovieLens dataset"
   ]
  },
  {
   "cell_type": "code",
   "execution_count": 312,
   "metadata": {},
   "outputs": [],
   "source": [
    "mov2usr_rate = defaultdict(list)\n",
    "\n",
    "\n",
    "with open(f\"Rating.txt\", \"r\") as f:\n",
    "    for line in f:\n",
    "        _line = list(map(int, line.rstrip().split(\",\")))\n",
    "        mov2usr_rate[_line[1]].append(tuple([_line[0], _line[-1]]))"
   ]
  },
  {
   "cell_type": "code",
   "execution_count": 313,
   "metadata": {},
   "outputs": [],
   "source": [
    "index2movie = defaultdict(str)\n",
    "\n",
    "with open(f\"MovieInfo.txt\", \"r\") as f:\n",
    "    for line in f:\n",
    "        _line = line.rstrip().split(\",\")\n",
    "        index2movie[int(_line[0])] = _line[-1]"
   ]
  },
  {
   "cell_type": "code",
   "execution_count": 314,
   "metadata": {},
   "outputs": [
    {
     "name": "stdout",
     "output_type": "stream",
     "text": [
      "Test passed\n"
     ]
    }
   ],
   "source": [
    "# Check whether your implementation is correct\n",
    "if len(mov2usr_rate) == 10677:\n",
    "    print('Test passed')"
   ]
  },
  {
   "cell_type": "markdown",
   "metadata": {},
   "source": [
    "#### 1.1 Get Shingles from the movies (Hint: Reuse the code you implemented in Task 2!)"
   ]
  },
  {
   "cell_type": "code",
   "execution_count": 315,
   "metadata": {},
   "outputs": [],
   "source": [
    "def get_shingles(items):\n",
    "    shingles = []\n",
    "    \n",
    "    #### Implement here ####\n",
    "    \n",
    "    users = defaultdict(int)\n",
    "    for item in items.values():\n",
    "        for feedback in item:\n",
    "            user_no, rate = feedback\n",
    "            \n",
    "            users[user_no] = max(users[user_no], rate)\n",
    "    \n",
    "    for user_no, max_rate in users.items():\n",
    "        for i in range(1, max_rate+1):\n",
    "                shingles.append((user_no, i))\n",
    "    \n",
    "    \n",
    "    ########################\n",
    "    \n",
    "    return set(shingles)"
   ]
  },
  {
   "cell_type": "code",
   "execution_count": 316,
   "metadata": {},
   "outputs": [
    {
     "name": "stdout",
     "output_type": "stream",
     "text": [
      "4.779030084609985\n"
     ]
    }
   ],
   "source": [
    "start = time.time()\n",
    "shingles = get_shingles(mov2usr_rate)\n",
    "end = time.time()\n",
    "print(end - start)"
   ]
  },
  {
   "cell_type": "code",
   "execution_count": 317,
   "metadata": {},
   "outputs": [
    {
     "name": "stdout",
     "output_type": "stream",
     "text": [
      "Test passed\n"
     ]
    }
   ],
   "source": [
    "# Check whether your implementation is correct\n",
    "if len(shingles) == 348290:\n",
    "    print('Test passed')"
   ]
  },
  {
   "cell_type": "markdown",
   "metadata": {},
   "source": [
    "#### 1.2 Build dictionary"
   ]
  },
  {
   "cell_type": "code",
   "execution_count": 318,
   "metadata": {},
   "outputs": [],
   "source": [
    "item_to_shingles = build_items_to_shingle_dictionary(mov2usr_rate, shingles)"
   ]
  },
  {
   "cell_type": "code",
   "execution_count": 319,
   "metadata": {},
   "outputs": [
    {
     "name": "stdout",
     "output_type": "stream",
     "text": [
      "Test passed\n"
     ]
    }
   ],
   "source": [
    "# Check whether your implementation is correct\n",
    "if len(item_to_shingles) == 10677 and len(item_to_shingles[0]) == 6997:\n",
    "    print('Test passed')"
   ]
  },
  {
   "cell_type": "markdown",
   "metadata": {},
   "source": [
    "### 2. Min-Hashing"
   ]
  },
  {
   "cell_type": "markdown",
   "metadata": {},
   "source": [
    "#### 2.1 Generate Prime numbers for Universal Hashing"
   ]
  },
  {
   "cell_type": "code",
   "execution_count": 320,
   "metadata": {},
   "outputs": [],
   "source": [
    "def is_prime(n):\n",
    "    for i in range(2,int(np.sqrt(n))+1):\n",
    "        if not n % i:\n",
    "            return False\n",
    "    return True\n",
    "\n",
    "def generate_prime_numbers(M, N):\n",
    "    primes = []\n",
    "    cnt = 0\n",
    "    n = N + 1\n",
    "    \n",
    "    while cnt < M:\n",
    "        if is_prime(n):\n",
    "            primes.append(n)\n",
    "            cnt += 1\n",
    "        n += 1\n",
    "    return primes"
   ]
  },
  {
   "cell_type": "markdown",
   "metadata": {},
   "source": [
    "#### 2.2 Min Hash"
   ]
  },
  {
   "cell_type": "code",
   "execution_count": 321,
   "metadata": {},
   "outputs": [],
   "source": [
    "M = 100\n",
    "N = len(shingles)\n",
    "\n",
    "class Hash():\n",
    "    def __init__(self, M, N, primes):\n",
    "        self.M = M\n",
    "        self.N = N\n",
    "        self.primes = primes\n",
    "        \n",
    "        self.a = np.random.choice(np.arange(999,9999), M, replace = False)\n",
    "        self.b = np.random.choice(np.arange(self.N), M, replace = False)\n",
    "    \n",
    "    def __call__(self, x):\n",
    "        return np.mod(np.mod((self.a * x + self.b), self.primes), self.N)\n",
    "    \n",
    "\n",
    "def min_hash(item_to_shingles, M, N):\n",
    "    C = len(item_to_shingles)\n",
    "\n",
    "    signatures = np.array(np.ones((M, C)) * np.inf, dtype = np.int)\n",
    "    primes = generate_prime_numbers(M, N)\n",
    "    hash_func = Hash(M, N, primes)\n",
    "    \n",
    "    for item_idx, shingle_idxes in tqdm(item_to_shingles.items()):\n",
    "        hash_arr = np.array([hash_func(shingle_idx) for shingle_idx in shingle_idxes])\n",
    "        \n",
    "        sig = np.min(hash_arr, 0)\n",
    "        signatures[np.arange(M), item_idx] = sig\n",
    "\n",
    "    return signatures"
   ]
  },
  {
   "cell_type": "markdown",
   "metadata": {},
   "source": [
    "### 3. Locality Sensitive Hashing"
   ]
  },
  {
   "cell_type": "markdown",
   "metadata": {},
   "source": [
    "#### 3.1 Min-Hash based LSH"
   ]
  },
  {
   "cell_type": "code",
   "execution_count": 322,
   "metadata": {},
   "outputs": [],
   "source": [
    "def lsh(signatures, b, r):\n",
    "    \"\"\"\n",
    "        b bands\n",
    "        r rows per band\n",
    "        \n",
    "        각 band는 k개의 버킷을 가지고 있고, 밴드별로 할당된 signarue의 열(r 길이)을 k개의 버킷에 해싱한다.\n",
    "        해싱을 할때 하나의 밴드라도 동일한 버킷에 들어간다면 두 컬럼은 비슷하다고 본다.\n",
    "        \n",
    "        여기서 b가 커지면 similarity threshold가 낮다. (higher false positive)\n",
    "        \n",
    "        즉, b가 커지면 r이 작아져서 문서들이 비슷하다고 판단될 확률이 높아진다고 볼 수 있음.\n",
    "        \n",
    "    \"\"\"\n",
    "    candidatePairs = set()\n",
    "    \n",
    "    M = signatures.shape[0]  # The number of min-hash functions\n",
    "    C = signatures.shape[1]  # The number of movies\n",
    "    \n",
    "    assert M == b * r\n",
    "    \n",
    "    #### Implement here ####\n",
    "    \n",
    "    # band 수로 나누기\n",
    "    for band in np.split(signatures, b): \n",
    "        \n",
    "        # band 별로 bucket 초기화\n",
    "        bucket = defaultdict(list)\n",
    "        \n",
    "        # bucket에 매칭이 됨.\n",
    "#         print(len(band.T))\n",
    "        for idx, item in enumerate(band.T):\n",
    "            key = tuple(item) # hash를 조금 생각 해봐야할지도..\n",
    "            bucket[key].append(idx)\n",
    "        \n",
    "#         print(len(bucket.keys()))\n",
    "        # add to candidatePairs\n",
    "        for _,matched in bucket.items():\n",
    "            \n",
    "            for pair in itertools.combinations(matched, 2):\n",
    "                candidatePairs.add(pair)\n",
    "        \n",
    "    ########################\n",
    "    \n",
    "\n",
    "    return candidatePairs"
   ]
  },
  {
   "cell_type": "markdown",
   "metadata": {},
   "source": [
    "#### 3.2 Compute the precision, recall, and F1 score"
   ]
  },
  {
   "cell_type": "code",
   "execution_count": 323,
   "metadata": {},
   "outputs": [
    {
     "name": "stderr",
     "output_type": "stream",
     "text": [
      "/tmp/ipykernel_1516/1366249128.py:20: DeprecationWarning: `np.int` is a deprecated alias for the builtin `int`. To silence this warning, use `int` by itself. Doing this will not modify any behavior and is safe. When replacing `np.int`, you may wish to use e.g. `np.int64` or `np.int32` to specify the precision. If you wish to review your current use, check the release note link for additional information.\n",
      "Deprecated in NumPy 1.20; for more details and guidance: https://numpy.org/devdocs/release/1.20.0-notes.html#deprecations\n",
      "  signatures = np.array(np.ones((M, C)) * np.inf, dtype = np.int)\n",
      "100%|█████████████████████████████████████████████████████████████████████████████| 10677/10677 [03:14<00:00, 54.79it/s]\n",
      "100%|█████████████████████████████████████████████████████████████████████████████| 10677/10677 [16:10<00:00, 11.01it/s]"
     ]
    },
    {
     "name": "stdout",
     "output_type": "stream",
     "text": [
      "The number of condition positives: 1319 when s=0.4\n"
     ]
    },
    {
     "name": "stderr",
     "output_type": "stream",
     "text": [
      "\n"
     ]
    }
   ],
   "source": [
    "# Compute the number of positives\n",
    "signatures = min_hash(item_to_shingles, M, N)\n",
    "s = 0.4  # threshold\n",
    "numConditionPositives = 1319 # This is the computed result when s=0.4, but I gave it to you to save your time.\n",
    "\n",
    "computeConditionPositives = True # If you want to calculate it, then change it to True. It will take 30 minutes to compute.\n",
    "\n",
    "\n",
    "if computeConditionPositives:\n",
    "    positivePairs = set()\n",
    "    testShingle = defaultdict(set)\n",
    "    numConditionPositives = 0\n",
    "    compareDist = defaultdict(list)\n",
    "    idx2size = defaultdict(int)\n",
    "\n",
    "    for key in index2movie.keys():\n",
    "        testShingle[key] = set(item_to_shingles[key])\n",
    "        \n",
    "    numItems = len(mov2usr_rate.keys())\n",
    "\n",
    "    for i in range(numItems):\n",
    "        shingle1 = testShingle[i]\n",
    "        size1 = len(shingle1)\n",
    "        idx2size[i] = size1\n",
    "        for j in range(i+1, numItems):\n",
    "            shingle2 = testShingle[j]\n",
    "            size2 = len(shingle2)\n",
    "            idx2size[j] = size2\n",
    "            if size2 <= size1:\n",
    "                compareDist[i].append(j)\n",
    "            else:\n",
    "                compareDist[j].append(i)\n",
    "    \n",
    "    for i in tqdm(range(numItems)):\n",
    "        shingle1 = testShingle[i]\n",
    "        size1 = idx2size[i]\n",
    "\n",
    "        for j in compareDist[i]:\n",
    "            size2 = idx2size[j]\n",
    "            if 2 * size1 > 5 * size2:\n",
    "                continue\n",
    "            shingle2 = testShingle[j]\n",
    "            true_sim = jaccard_similarity(shingle1, shingle2)\n",
    "            if true_sim >= s:\n",
    "                numConditionPositives += 1\n",
    "                \n",
    "                # add positive pairs (i, j), 추가 포인트\n",
    "                positivePairs.add((i, j))\n",
    "                \n",
    "\n",
    "print(f\"The number of condition positives: {numConditionPositives} when s={s}\")"
   ]
  },
  {
   "cell_type": "code",
   "execution_count": null,
   "metadata": {},
   "outputs": [],
   "source": []
  },
  {
   "cell_type": "code",
   "execution_count": 324,
   "metadata": {},
   "outputs": [],
   "source": [
    "# Return query_time, precision, recall, F1 score\n",
    "def query_analysis(signatures, b, s, numConditionPositives):\n",
    "    \n",
    "    #### Implement here ####\n",
    "    \n",
    "    start = time.time()\n",
    "    candidatePairs = lsh(signatures, b, r=len(signatures)//b)\n",
    "    query_time = time.time() - start\n",
    "    \n",
    "    \n",
    "    recall = len(positivePairs.intersection(candidatePairs))/len(positivePairs)\n",
    "    precision = len(positivePairs.intersection(candidatePairs)) /len(candidatePairs)\n",
    "    \n",
    "    f1 = 2 * (precision * recall) / (precision + recall)\n",
    "    \n",
    "    \n",
    "    ########################\n",
    "    \n",
    "\n",
    "    return query_time, precision, recall, f1"
   ]
  },
  {
   "cell_type": "code",
   "execution_count": 325,
   "metadata": {},
   "outputs": [],
   "source": [
    "# Return the list of every divisor of given integer\n",
    "def find_divisors(x):\n",
    "    divisors = list()\n",
    "    for i in range(1, x):\n",
    "        if x % i == 0:\n",
    "            divisors.append(i)\n",
    "    return divisors"
   ]
  },
  {
   "cell_type": "code",
   "execution_count": 332,
   "metadata": {},
   "outputs": [
    {
     "name": "stderr",
     "output_type": "stream",
     "text": [
      "100%|█████████████████████████████████████████████████████████████████████████████████████| 8/8 [00:27<00:00,  3.43s/it]\n"
     ]
    }
   ],
   "source": [
    "b_list = find_divisors(M)\n",
    "\n",
    "query_time_list = list()\n",
    "precision_list = list()\n",
    "recall_list = list()\n",
    "f1_list = list()\n",
    "\n",
    "for b in tqdm(b_list):\n",
    "    query_time, precision, recall, f1 = query_analysis(signatures, b, s, numConditionPositives)\n",
    "    query_time_list.append(query_time)\n",
    "    precision_list.append(precision)\n",
    "    recall_list.append(recall)\n",
    "    f1_list.append(f1)"
   ]
  },
  {
   "cell_type": "code",
   "execution_count": 333,
   "metadata": {},
   "outputs": [
    {
     "name": "stdout",
     "output_type": "stream",
     "text": [
      "b:  [1, 2, 4, 5, 10, 20, 25, 50]\n",
      "Query times:  [0.0737009048461914, 0.0687246322631836, 3.3779137134552, 0.08999395370483398, 3.292668342590332, 3.331793785095215, 6.52165150642395, 10.516435623168945]\n",
      "Precisions:  [0.9864864864864865, 0.7857142857142857, 0.6868131868131868, 0.6793478260869565, 0.6713615023474179, 0.20315398886827457, 0.06147826086956522, 0.000665225006764138]\n",
      "Recalls:  [0.05534495830174375, 0.0667172100075815, 0.09476876421531463, 0.09476876421531463, 0.10841546626231995, 0.33206974981046244, 0.5360121304018196, 0.7437452615617892]\n",
      "F1 scores:  [0.1048097631012204, 0.12299091544374564, 0.1665556295802798, 0.166333998669328, 0.18668407310704965, 0.25208633093525173, 0.11030501599188704, 0.0013292610880157832]\n"
     ]
    }
   ],
   "source": [
    "print(\"b: \", b_list)\n",
    "print(\"Query times: \", query_time_list)\n",
    "print(\"Precisions: \", precision_list)\n",
    "print(\"Recalls: \", recall_list)\n",
    "print(\"F1 scores: \", f1_list)"
   ]
  },
  {
   "cell_type": "code",
   "execution_count": 334,
   "metadata": {},
   "outputs": [
    {
     "data": {
      "image/png": "[encoded data removed]",
      "text/plain": [
       "<Figure size 432x288 with 1 Axes>"
      ]
     },
     "metadata": {
      "needs_background": "light"
     },
     "output_type": "display_data"
    }
   ],
   "source": [
    "plt.title(f\"Query time (s={s})\")\n",
    "plt.xlabel(\"b\")\n",
    "plt.ylabel(\"Query time [sec]\")\n",
    "plt.plot(b_list, query_time_list)\n",
    "plt.show()"
   ]
  },
  {
   "cell_type": "code",
   "execution_count": 335,
   "metadata": {},
   "outputs": [
    {
     "data": {
      "image/png": "[encoded data removed]",
      "text/plain": [
       "<Figure size 432x288 with 1 Axes>"
      ]
     },
     "metadata": {
      "needs_background": "light"
     },
     "output_type": "display_data"
    }
   ],
   "source": [
    "plt.title(f\"Precision (s={s})\")\n",
    "plt.xlabel(\"b\")\n",
    "plt.ylabel(\"Precision\")\n",
    "plt.plot(b_list, precision_list)\n",
    "plt.show()"
   ]
  },
  {
   "cell_type": "code",
   "execution_count": 336,
   "metadata": {},
   "outputs": [
    {
     "data": {
      "image/png": "[encoded data removed]",
      "text/plain": [
       "<Figure size 432x288 with 1 Axes>"
      ]
     },
     "metadata": {
      "needs_background": "light"
     },
     "output_type": "display_data"
    }
   ],
   "source": [
    "plt.title(f\"Recall (s={s})\")\n",
    "plt.xlabel(\"b\")\n",
    "plt.ylabel(\"Recall\")\n",
    "plt.plot(b_list, recall_list)\n",
    "plt.show()"
   ]
  },
  {
   "cell_type": "code",
   "execution_count": 337,
   "metadata": {},
   "outputs": [
    {
     "data": {
      "image/png": "[encoded data removed]",
      "text/plain": [
       "<Figure size 432x288 with 1 Axes>"
      ]
     },
     "metadata": {
      "needs_background": "light"
     },
     "output_type": "display_data"
    }
   ],
   "source": [
    "plt.title(f\"F1 Score (s={s})\")\n",
    "plt.xlabel(\"b\")\n",
    "plt.ylabel(\"F1 Score\")\n",
    "plt.plot(b_list, f1_list)\n",
    "plt.show()"
   ]
  },
  {
   "cell_type": "markdown",
   "metadata": {},
   "source": [
    "### Case Study"
   ]
  },
  {
   "cell_type": "code",
   "execution_count": 338,
   "metadata": {},
   "outputs": [],
   "source": [
    "# 37 Star Wars: Episode VI - Return of the Jedi (1983)\n",
    "# 1459 Wallace & Gromit: A Grand Day Out (1989)\n",
    "# 96 Toy Story (1995) , 0.37이 sim 최고치... \n",
    "# 1239 Harry Potter and the Goblet of Fire (2005)"
   ]
  },
  {
   "cell_type": "code",
   "execution_count": 341,
   "metadata": {
    "scrolled": false
   },
   "outputs": [
    {
     "name": "stderr",
     "output_type": "stream",
     "text": [
      " 25%|█████████████████████▎                                                               | 1/4 [00:38<01:55, 38.49s/it]"
     ]
    },
    {
     "name": "stdout",
     "output_type": "stream",
     "text": [
      "-----------------------------------------\n",
      "-----------------------------------------\n",
      "idx:  37 title:  Star Wars: Episode VI - Return of the Jedi (1983) : precision@%d : 1.0\n",
      "\n",
      "similar item list\n",
      "1 : 0.5930796012403741, Star Wars: Episode V - The Empire Strikes Back (1980)\n",
      "2 : 0.5865687451451169, Star Wars: Episode IV - A New Hope (a.k.a. Star Wars) (1977)\n",
      "3 : 0.4483934754004366, Raiders of the Lost Ark (Indiana Jones and the Raiders of the Lost Ark) (1981)\n",
      "4 : 0.4245875644192358, Back to the Future (1985)\n",
      "5 : 0.40740770976537627,  The (1984)\n",
      "6 : 0.39834999689069767,  The (1999)\n",
      "7 : 0.3722360108303249, Men in Black (1997)\n",
      "8 : 0.3536450367165516, Aliens (1986)\n",
      "9 : 0.35148015837815605, Alien (1979)\n",
      "10 : 0.3494585374008557, Terminator 2: Judgment Day (1991)\n"
     ]
    },
    {
     "name": "stderr",
     "output_type": "stream",
     "text": [
      "\r",
      " 50%|██████████████████████████████████████████▌                                          | 2/4 [00:45<00:40, 20.26s/it]"
     ]
    },
    {
     "name": "stdout",
     "output_type": "stream",
     "text": [
      "-----------------------------------------\n",
      "-----------------------------------------\n",
      "idx:  1459 title:  Wallace & Gromit: A Grand Day Out (1989) : precision@%d : 0.3333333333333333\n",
      "\n",
      "similar item list\n",
      "1 : 0.4430215172593122, Wallace & Gromit: A Close Shave (1995)\n",
      "2 : 0.14377402141870965,  A (1988)\n",
      "3 : 0.08985641500694766,  The (1988)\n"
     ]
    },
    {
     "name": "stderr",
     "output_type": "stream",
     "text": [
      "\r",
      " 75%|███████████████████████████████████████████████████████████████▊                     | 3/4 [01:24<00:28, 28.39s/it]"
     ]
    },
    {
     "name": "stdout",
     "output_type": "stream",
     "text": [
      "-----------------------------------------\n",
      "-----------------------------------------\n",
      "idx:  96 title:  Toy Story (1995) : precision@%d : 0.9\n",
      "\n",
      "similar item list\n",
      "1 : 0.3739034164069363, Star Wars: Episode IV - A New Hope (a.k.a. Star Wars) (1977)\n",
      "2 : 0.3454862907397827, Star Wars: Episode VI - Return of the Jedi (1983)\n",
      "3 : 0.3267358304473893, Mission: Impossible (1996)\n",
      "4 : 0.3195196095805445, Aladdin (1992)\n",
      "5 : 0.31898654286386685, Forrest Gump (1994)\n",
      "6 : 0.31500530709053504, Raiders of the Lost Ark (Indiana Jones and the Raiders of the Lost Ark) (1981)\n",
      "7 : 0.3131560733648633, Jurassic Park (1993)\n",
      "8 : 0.3095433571996818, Fargo (1996)\n",
      "9 : 0.30241065139845047, Groundhog Day (1993)\n",
      "10 : 0.2981312631977248, Apollo 13 (1995)\n"
     ]
    },
    {
     "name": "stderr",
     "output_type": "stream",
     "text": [
      "100%|█████████████████████████████████████████████████████████████████████████████████████| 4/4 [01:30<00:00, 22.59s/it]"
     ]
    },
    {
     "name": "stdout",
     "output_type": "stream",
     "text": [
      "-----------------------------------------\n",
      "-----------------------------------------\n",
      "idx:  1239 title:  Harry Potter and the Goblet of Fire (2005) : precision@%d : 0.3\n",
      "\n",
      "similar item list\n",
      "1 : 0.45226533800616475, Harry Potter and the Prisoner of Azkaban (2004)\n",
      "2 : 0.34902324916967253, Harry Potter and the Chamber of Secrets (2002)\n",
      "3 : 0.30341815991567533, Pirates of the Caribbean: Dead Man's Chest (2006)\n",
      "4 : 0.26438507261474353, Batman Begins (2005)\n",
      "5 : 0.15067119701442655,  The (2004)\n",
      "6 : 0.13406593406593406, Jarhead (2005)\n",
      "7 : 0.10991012873451543, Mulan (1998)\n",
      "8 : 0.09234468416948272, Cloverfield (2008)\n",
      "9 : 0.08926624978486604,  The (2004)\n",
      "10 : 0.08580984477124183, My Cousin Vinny (1992)\n"
     ]
    },
    {
     "name": "stderr",
     "output_type": "stream",
     "text": [
      "\n"
     ]
    }
   ],
   "source": [
    "#### Implement any functions here ####\n",
    "    \n",
    "# 내가 만든 lsh 함수랑 exact weighted Jaccard Similarity랑 비교 해라..\n",
    "\n",
    "def generate_gt(query, item_to_shingles, s=0.4):\n",
    "    \"\"\"\n",
    "        items : (N, shingles)\n",
    "        return : {item_no : ranked list}\n",
    "        \n",
    "        **조교님 code를 가져와서 수정.** # query 별로 가져오면서 폐기\n",
    "        \n",
    "    \"\"\"\n",
    "    \n",
    "    gt = defaultdict(list) # key : item_no, values : gt set\n",
    "\n",
    "#     testShingle = defaultdict(set)\n",
    "#     numConditionPositives = 0\n",
    "#     compareDist = defaultdict(list)\n",
    "#     idx2size = defaultdict(int)\n",
    "\n",
    "#     for key in index2movie.keys():\n",
    "#         testShingle[key] = set(item_to_shingles[key])\n",
    "\n",
    "#     numItems = len(mov2usr_rate.keys())\n",
    "\n",
    "#     for i in range(numItems):\n",
    "#         shingle1 = testShingle[i]\n",
    "#         size1 = len(shingle1)\n",
    "#         idx2size[i] = size1\n",
    "#         for j in range(i+1, numItems):\n",
    "#             shingle2 = testShingle[j]\n",
    "#             size2 = len(shingle2)\n",
    "#             idx2size[j] = size2\n",
    "#             if size2 <= size1:\n",
    "#                 compareDist[i].append(j)\n",
    "#             else:\n",
    "#                 compareDist[j].append(i)\n",
    "\n",
    "#     for i in tqdm(range(numItems)):\n",
    "#         shingle1 = testShingle[i]\n",
    "#         size1 = idx2size[i]\n",
    "\n",
    "#         for j in compareDist[i]:\n",
    "#             size2 = idx2size[j]\n",
    "#             if 2 * size1 > 5 * size2:\n",
    "#                 continue\n",
    "#             shingle2 = testShingle[j]\n",
    "#             true_sim = jaccard_similarity(shingle1, shingle2)\n",
    "#             if true_sim >= s:\n",
    "#                 numConditionPositives += 1\n",
    "\n",
    "#                 # i, j pair를 gt 리스트에 추가\n",
    "#                 gt[i].add(j)\n",
    "#                 gt[j].add(i)\n",
    "    \n",
    "    \n",
    "    numItems = len(item_to_shingles.keys())\n",
    "    \n",
    "    sorted_list = sorted([(i, jaccard_similarity(set(item_to_shingles[query]), set(item_to_shingles[i]))) for i in range(numItems) if i != query ]\n",
    "    , key=lambda x : x[1], reverse=True)\n",
    "    \n",
    "    # s threshold \n",
    "    sorted_list = list(filter(lambda x : x[1] >= s, sorted_list))\n",
    "    \n",
    "    return sorted_list\n",
    "    \n",
    "    \n",
    "\n",
    "def get_pred_list(query, candidatePairs):\n",
    "    # lsh function을 이용해야하니, matched list를 만들고, 거기에 있는 값들을 다시 rerank?\n",
    "    \n",
    "    pred = []\n",
    "    for pair in candidatePairs:\n",
    "        if query == pair[0]:\n",
    "            pred.append(pair[1])\n",
    "        if query == pair[1]:\n",
    "            pred.append(pair[0])    \n",
    "    return pred\n",
    "\n",
    "def rerank(query, pred, item_to_shingles):\n",
    "    \"\"\"\n",
    "        rerank with weighted jaccard sim\n",
    "        \n",
    "    \"\"\"\n",
    "    # weight jaccard sim == jaccard sim with shingle\n",
    "    ranked_list = sorted([(i, jaccard_similarity(set(item_to_shingles[query]), set(item_to_shingles[i]))) for i in pred], key=lambda x : x[1], reverse=True) # [0] item_no, [1] score\n",
    "    \n",
    "    return ranked_list\n",
    "\n",
    "def precision(gt, pred):\n",
    "    gt_set = set([e[1] for e in gt])\n",
    "    pred_set = set([e[1] for e in pred])\n",
    "    \n",
    "    precision = len(gt_set.intersection(pred_set)) /len(pred_set)\n",
    "    return precision\n",
    "\n",
    "\n",
    "test_idx = [37, 1459, 96, 1239]\n",
    "s = 0.3\n",
    "b = 25\n",
    "topN = 10\n",
    "\n",
    "candidatePairs = lsh(signatures, b, r=len(signatures)//b)\n",
    "\n",
    "\n",
    "for idx in tqdm(test_idx):\n",
    "    gt = generate_gt(query=idx, item_to_shingles=item_to_shingles, s=s)\n",
    "    \n",
    "    pred = rerank(query=idx, pred=get_pred_list(idx, candidatePairs), item_to_shingles=item_to_shingles)[:topN]\n",
    "    precN = precision(gt, pred)\n",
    "    \n",
    "    print(\"-----------------------------------------\")\n",
    "    print(\"-----------------------------------------\")\n",
    "#     print(len(gt), len(pred))#, pred)\n",
    "    print(\"idx: \",idx, \"title: \", index2movie[idx] ,\": precision@%d :\".format(topN), precN)\n",
    "    print() # 개행\n",
    "    \n",
    "    # print ranked list\n",
    "    print(\"similar item list\")\n",
    "    for i, (item_no, score) in enumerate(pred):\n",
    "        print(str(i + 1) + \" : \" +  str(score) +\", \"+ index2movie[item_no])\n",
    "\n",
    "    \n",
    "######################################"
   ]
  },
  {
   "cell_type": "code",
   "execution_count": null,
   "metadata": {},
   "outputs": [],
   "source": []
  },
  {
   "cell_type": "code",
   "execution_count": 344,
   "metadata": {},
   "outputs": [
    {
     "data": {
      "text/plain": [
       "30"
      ]
     },
     "execution_count": 344,
     "metadata": {},
     "output_type": "execute_result"
    }
   ],
   "source": [
    "gt = generate_gt(query=37, item_to_shingles=item_to_shingles, s=s)\n",
    "len(gt)"
   ]
  },
  {
   "cell_type": "code",
   "execution_count": 345,
   "metadata": {},
   "outputs": [
    {
     "data": {
      "text/plain": [
       "2"
      ]
     },
     "execution_count": 345,
     "metadata": {},
     "output_type": "execute_result"
    }
   ],
   "source": [
    "gt = generate_gt(query=1459 , item_to_shingles=item_to_shingles, s=s)\n",
    "len(gt)"
   ]
  },
  {
   "cell_type": "code",
   "execution_count": 346,
   "metadata": {},
   "outputs": [
    {
     "data": {
      "text/plain": [
       "15"
      ]
     },
     "execution_count": 346,
     "metadata": {},
     "output_type": "execute_result"
    }
   ],
   "source": [
    "gt = generate_gt(query=96 , item_to_shingles=item_to_shingles, s=s)\n",
    "len(gt)"
   ]
  },
  {
   "cell_type": "code",
   "execution_count": 347,
   "metadata": {},
   "outputs": [
    {
     "data": {
      "text/plain": [
       "6"
      ]
     },
     "execution_count": 347,
     "metadata": {},
     "output_type": "execute_result"
    }
   ],
   "source": [
    "gt = generate_gt(query=1239 , item_to_shingles=item_to_shingles, s=s)\n",
    "len(gt)"
   ]
  },
  {
   "cell_type": "code",
   "execution_count": null,
   "metadata": {},
   "outputs": [],
   "source": []
  }
 ],
 "metadata": {
  "kernelspec": {
   "display_name": "Python 3 (ipykernel)",
   "language": "python",
   "name": "python3"
  },
  "language_info": {
   "codemirror_mode": {
    "name": "ipython",
    "version": 3
   },
   "file_extension": ".py",
   "mimetype": "text/x-python",
   "name": "python",
   "nbconvert_exporter": "python",
   "pygments_lexer": "ipython3",
   "version": "3.8.10"
  }
 },
 "nbformat": 4,
 "nbformat_minor": 4
}
